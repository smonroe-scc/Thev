{
 "cells": [
  {
   "cell_type": "code",
   "execution_count": 1,
   "metadata": {},
   "outputs": [
    {
     "name": "stdout",
     "output_type": "stream",
     "text": [
      "Author        : S Monroe\n",
      "Version       : 3.8.3 (default, Jul  2 2020, 17:30:36) [MSC v.1916 64 bit (AMD64)]\n",
      "NumPy lib     : 1.18.5\n",
      "Encoding      : utf-8\n",
      "Timestamp     : 1724435353.7376049\n"
     ]
    }
   ],
   "source": [
    "from math import cos, sin, tan, acos, asin, atan, atan2, degrees, radians\n",
    "from numpy import reciprocal, pi, sqrt, angle, exp\n",
    "import numpy as np\n",
    "import time, sys\n",
    "\n",
    "#hextime=float.hex(time.time())\n",
    "\n",
    "# The foregoing is a clunky way to do this\n",
    "# Haven't spent a lot of time thinking through a more elegant solution\n",
    "\n",
    "def cosd(x):\n",
    "  return cos(radians(x))\n",
    "\n",
    "def sind(x):\n",
    "  return sin(radians(x))\n",
    "\n",
    "def tand(x):\n",
    "  return tan(radians(x))\n",
    "\n",
    "def acosd(x):\n",
    "  return degrees(acos(x))\n",
    "\n",
    "def asind(x):\n",
    "  return degrees(asin(x))\n",
    "\n",
    "def atand(x):\n",
    "  return degrees(atan(x))\n",
    "\n",
    "def atan2d(y, x):\n",
    "  return degrees(atan2(y, x))\n",
    "\n",
    "## Now define conversion functions:\n",
    "\n",
    "def P2R(radii, angles):\n",
    "    return radii * exp(1j*angles*(pi/180))\n",
    "\n",
    "def R2P(x):\n",
    "    return abs(x), angle(x, deg=True)\n",
    "\n",
    "\n",
    "print(\"Author        : S Monroe\")\n",
    "print(\"Version       :\",sys.version[0:100])\n",
    "print(\"NumPy lib     :\",np.version.version)\n",
    "print(\"Encoding      :\",sys.getdefaultencoding())\n",
    "print(\"Timestamp     :\",time.time())"
   ]
  },
  {
   "cell_type": "markdown",
   "metadata": {},
   "source": [
    "<H2>Consider the following:</H2>"
   ]
  },
  {
   "cell_type": "markdown",
   "metadata": {},
   "source": [
    " <img src=\"2nd_Thev.jpg\" alt=\"Image Failed to Load\" width=\"600\" height=\"500\"> "
   ]
  },
  {
   "cell_type": "markdown",
   "metadata": {},
   "source": [
    "The problem statement asks for the current through the diode given the above schematic."
   ]
  },
  {
   "cell_type": "markdown",
   "metadata": {},
   "source": [
    "The first step is to take out the component that we are \"Thevenizing\" on ... in this case the diode."
   ]
  },
  {
   "cell_type": "markdown",
   "metadata": {},
   "source": [
    "Next calculate $V_{TH}:$"
   ]
  },
  {
   "cell_type": "markdown",
   "metadata": {},
   "source": [
    "$$V_{TH}=\\frac{V_1 \\cdot R_2 + V_2 \\cdot R_1}{R_1+R_2}$$"
   ]
  },
  {
   "cell_type": "markdown",
   "metadata": {},
   "source": [
    "Short the supplies and calculate $R_{TH}:$"
   ]
  },
  {
   "cell_type": "markdown",
   "metadata": {},
   "source": [
    "$$R_{TH}=\\frac{R_1 \\cdot R_2}{R_1+R_2}$$"
   ]
  },
  {
   "cell_type": "code",
   "execution_count": 2,
   "metadata": {},
   "outputs": [],
   "source": [
    "V1=10.0 \n",
    "V2=20.0 \n",
    "R1=1000.0\n",
    "R2=2000.0"
   ]
  },
  {
   "cell_type": "code",
   "execution_count": 3,
   "metadata": {},
   "outputs": [
    {
     "name": "stdout",
     "output_type": "stream",
     "text": [
      "VTH: 13.3333 V\n",
      "RTH: 666.6667 Ω\n"
     ]
    }
   ],
   "source": [
    "VTH=(V1*R2+V2*R1)/(R1+R2)\n",
    "RTH=(R1*R2)/(R1+R2)\n",
    "print(\"VTH:\",'{0:.4f}'.format(VTH),\"V\")\n",
    "print(\"RTH:\",'{0:.4f}'.format(RTH),\"\\u03A9\")"
   ]
  },
  {
   "cell_type": "markdown",
   "metadata": {},
   "source": [
    "In other words, the following circuit:"
   ]
  },
  {
   "cell_type": "markdown",
   "metadata": {},
   "source": [
    " <img src=\"2nd_Thev_equiv.jpg\" alt=\"Image Failed to Load\" width=\"600\" height=\"500\"> "
   ]
  },
  {
   "cell_type": "markdown",
   "metadata": {},
   "source": [
    "Now calculate the current:"
   ]
  },
  {
   "cell_type": "markdown",
   "metadata": {},
   "source": [
    "$$I_D=\\frac{(V_{TH}-V_J)}{R_{TH}}$$"
   ]
  },
  {
   "cell_type": "code",
   "execution_count": 4,
   "metadata": {},
   "outputs": [
    {
     "name": "stdout",
     "output_type": "stream",
     "text": [
      "ID: 0.018950 A\n"
     ]
    }
   ],
   "source": [
    "Vj=0.7 # Heuristic value\n",
    "ID=(VTH-Vj)/RTH\n",
    "print(\"ID:\",'{0:.6f}'.format(ID),\"A\")"
   ]
  },
  {
   "cell_type": "markdown",
   "metadata": {},
   "source": [
    "What if we changed ... say ... $V_2$ to be $-10V$ ... Same procedure, different numerical result ..."
   ]
  },
  {
   "cell_type": "code",
   "execution_count": 5,
   "metadata": {},
   "outputs": [
    {
     "name": "stdout",
     "output_type": "stream",
     "text": [
      "VTH: 3.3333 V\n",
      "RTH: 666.6667 Ω\n",
      "ID: 0.003950 A\n"
     ]
    }
   ],
   "source": [
    "V1=10.0 \n",
    "V2=-10.0 \n",
    "R1=1000.0\n",
    "R2=2000.0\n",
    "VTH=(V1*R2+V2*R1)/(R1+R2)\n",
    "RTH=(R1*R2)/(R1+R2)\n",
    "print(\"VTH:\",'{0:.4f}'.format(VTH),\"V\")\n",
    "print(\"RTH:\",'{0:.4f}'.format(RTH),\"\\u03A9\")\n",
    "Vj=0.7 # Heuristic value\n",
    "ID=(VTH-Vj)/RTH\n",
    "print(\"ID:\",'{0:.6f}'.format(ID),\"A\")"
   ]
  },
  {
   "cell_type": "markdown",
   "metadata": {},
   "source": [
    "And if we changed $V_1$ to be negative, and left $V_2$ to its original value ..."
   ]
  },
  {
   "cell_type": "code",
   "execution_count": 6,
   "metadata": {},
   "outputs": [
    {
     "name": "stdout",
     "output_type": "stream",
     "text": [
      "VTH: 0.0000 V\n",
      "RTH: 666.6667 Ω\n",
      "ID: -0.001050 A\n"
     ]
    }
   ],
   "source": [
    "V1=-10.0 \n",
    "V2=20.0 \n",
    "R1=1000.0\n",
    "R2=2000.0\n",
    "VTH=(V1*R2+V2*R1)/(R1+R2)\n",
    "RTH=(R1*R2)/(R1+R2)\n",
    "print(\"VTH:\",'{0:.4f}'.format(VTH),\"V\")\n",
    "print(\"RTH:\",'{0:.4f}'.format(RTH),\"\\u03A9\")\n",
    "Vj=0.7 # Heuristic value\n",
    "ID=(VTH-Vj)/RTH\n",
    "print(\"ID:\",'{0:.6f}'.format(ID),\"A\")"
   ]
  }
 ],
 "metadata": {
  "kernelspec": {
   "display_name": "Python 3",
   "language": "python",
   "name": "python3"
  },
  "language_info": {
   "codemirror_mode": {
    "name": "ipython",
    "version": 3
   },
   "file_extension": ".py",
   "mimetype": "text/x-python",
   "name": "python",
   "nbconvert_exporter": "python",
   "pygments_lexer": "ipython3",
   "version": "3.8.3"
  }
 },
 "nbformat": 4,
 "nbformat_minor": 4
}
